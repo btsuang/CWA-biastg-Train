{
 "cells": [
  {
   "cell_type": "code",
   "execution_count": 2,
   "id": "645214ac",
   "metadata": {},
   "outputs": [
    {
     "name": "stdout",
     "output_type": "stream",
     "text": [
      "Data points remaining after outlier removal: 0\n"
     ]
    },
    {
     "ename": "ValueError",
     "evalue": "not enough values to unpack (expected 2, got 0)",
     "output_type": "error",
     "traceback": [
      "\u001b[1;31m---------------------------------------------------------------------------\u001b[0m",
      "\u001b[1;31mValueError\u001b[0m                                Traceback (most recent call last)",
      "Input \u001b[1;32mIn [2]\u001b[0m, in \u001b[0;36m<cell line: 44>\u001b[1;34m()\u001b[0m\n\u001b[0;32m     39\u001b[0m \u001b[38;5;28mprint\u001b[39m(\u001b[38;5;124mf\u001b[39m\u001b[38;5;124m\"\u001b[39m\u001b[38;5;124mData points remaining after outlier removal: \u001b[39m\u001b[38;5;132;01m{\u001b[39;00m\u001b[38;5;28mlen\u001b[39m(data_no_outliers)\u001b[38;5;132;01m}\u001b[39;00m\u001b[38;5;124m\"\u001b[39m)\n\u001b[0;32m     42\u001b[0m \u001b[38;5;66;03m# Data transformation\u001b[39;00m\n\u001b[0;32m     43\u001b[0m \u001b[38;5;66;03m# Apply Box-Cox transformation\u001b[39;00m\n\u001b[1;32m---> 44\u001b[0m data_transformed, lambda_value \u001b[38;5;241m=\u001b[39m boxcox(data_no_outliers[\u001b[38;5;124m\"\u001b[39m\u001b[38;5;124mbiastg\u001b[39m\u001b[38;5;124m\"\u001b[39m])\n\u001b[0;32m     46\u001b[0m \u001b[38;5;66;03m# Split the data into training and testing sets\u001b[39;00m\n\u001b[0;32m     47\u001b[0m train_data \u001b[38;5;241m=\u001b[39m data_transformed[:\u001b[38;5;28mint\u001b[39m(\u001b[38;5;241m0.8\u001b[39m \u001b[38;5;241m*\u001b[39m \u001b[38;5;28mlen\u001b[39m(data_transformed))]\n",
      "\u001b[1;31mValueError\u001b[0m: not enough values to unpack (expected 2, got 0)"
     ]
    }
   ],
   "source": [
    "import pandas as pd\n",
    "import numpy as np\n",
    "from scipy import stats\n",
    "from datetime import datetime, timedelta\n",
    "import matplotlib.pyplot as plt\n",
    "from statsmodels.tsa.statespace.sarimax import SARIMAX\n",
    "from sklearn.metrics import mean_absolute_error, mean_squared_error\n",
    "import pmdarima as pm\n",
    "from scipy.stats import boxcox\n",
    "from scipy.special import inv_boxcox\n",
    "\n",
    "# Additional function for outlier detection using Z-score\n",
    "def remove_outliers_z_score(data, threshold=3):\n",
    "    z_scores = np.abs(stats.zscore(data))\n",
    "    return data[(z_scores < threshold)]\n",
    "\n",
    "# Read gold price data from a csv file\n",
    "csv_file = 'SeaData\\\\bias\\大西洋暖流(50W,31.3N).csv'\n",
    "data = pd.read_csv(csv_file, index_col='date', parse_dates=True)\n",
    "\n",
    "# Prepare the data\n",
    "data = data['biastg']\n",
    "data = data.asfreq('B').fillna(method='ffill')  # Fill missing values\n",
    "\n",
    "# Additional feature engineering\n",
    "# Add lagged values and rolling window statistics\n",
    "data = data.to_frame()\n",
    "for i in range(1, 4):\n",
    "    data[f\"lag_{i}\"] = data[\"biastg\"].shift(i)\n",
    "    data[f\"rolling_mean_{i}\"] = data[\"biastg\"].rolling(window=i).mean()\n",
    "    data[f\"rolling_std_{i}\"] = data[\"biastg\"].rolling(window=i).std()\n",
    "\n",
    "# Remove rows with missing values (due to lagged features and rolling window)\n",
    "data = data.dropna()\n",
    "\n",
    "# Outlier detection and removal using Z-score\n",
    "data_no_outliers = remove_outliers_z_score(data, threshold=3)\n",
    "\n",
    "print(f\"Data points remaining after outlier removal: {len(data_no_outliers)}\")\n",
    "\n",
    "\n",
    "# Data transformation\n",
    "# Apply Box-Cox transformation\n",
    "data_transformed, lambda_value = boxcox(data_no_outliers[\"biastg\"])\n",
    "\n",
    "# Split the data into training and testing sets\n",
    "train_data = data_transformed[:int(0.8 * len(data_transformed))]\n",
    "test_data = data_transformed[int(0.8 * len(data_transformed)):]\n",
    "\n",
    "# Perform stepwise search\n",
    "stepwise_model = pm.auto_arima(train_data, start_p=0, start_q=0, start_P=0, start_Q=0,\n",
    "                               max_p=3, max_q=3, max_P=3, max_Q=3, seasonal=True,\n",
    "                               stepwise=True, suppress_warnings=True, D=1, max_D=1,\n",
    "                               error_action='ignore', trace=True, m=12,\n",
    "                               exogenous=data_no_outliers.drop(columns=[\"biastg\"]).iloc[:int(0.8 * len(data_transformed)), :])\n",
    "\n",
    "print(f\"Best SARIMAX parameters: {stepwise_model.order}, {stepwise_model.seasonal_order}\")\n",
    "\n",
    "# Fit the best model and make predictions\n",
    "best_model = SARIMAX(data_transformed, order=stepwise_model.order, seasonal_order=stepwise_model.seasonal_order,\n",
    "                     exog=data_no_outliers.drop(columns=[\"biastg\"]))\n",
    "best_results = best_model.fit()\n",
    "predictions = best_results.predict(start=test_data.index[0], end=test_data.index[-1],\n",
    "                                    exog=data_no_outliers.drop(columns=[\"biastg\"]).iloc[int(0.8 * len(data_transformed)):, :])\n",
    "\n",
    "# Invert Box-Cox transformation\n",
    "predictions_inv = inv_boxcox(predictions, lambda_value)\n",
    "\n",
    "# Evaluate the model\n",
    "mae = mean_absolute_error(data_no_outliers[\"biastg\"].iloc[int(0.8 * len(data_transformed)):], predictions_inv)\n"
   ]
  },
  {
   "cell_type": "code",
   "execution_count": null,
   "id": "a12331c9",
   "metadata": {},
   "outputs": [],
   "source": []
  }
 ],
 "metadata": {
  "kernelspec": {
   "display_name": "Python 3 (ipykernel)",
   "language": "python",
   "name": "python3"
  },
  "language_info": {
   "codemirror_mode": {
    "name": "ipython",
    "version": 3
   },
   "file_extension": ".py",
   "mimetype": "text/x-python",
   "name": "python",
   "nbconvert_exporter": "python",
   "pygments_lexer": "ipython3",
   "version": "3.9.12"
  }
 },
 "nbformat": 4,
 "nbformat_minor": 5
}
